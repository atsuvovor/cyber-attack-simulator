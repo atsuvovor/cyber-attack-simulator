{
 "cells": [
  {
   "cell_type": "code",
   "execution_count": null,
   "id": "904087d7-c2cb-434d-9e35-9628f062ff58",
   "metadata": {},
   "outputs": [],
   "source": [
    "import pandas as pd\n",
    "import pytest\n",
    "from app.ai_agent import validate_uploaded_data, generate_ai_commentary\n",
    "\n",
    "def test_validate_uploaded_data_valid():\n",
    "    df = pd.read_csv(\"data/normal_and_anomalous_flaged_df.csv\")\n",
    "    is_valid, message = validate_uploaded_data(df)\n",
    "    assert is_valid\n",
    "    assert \"successfully\" in message.lower()\n",
    "\n",
    "def test_validate_uploaded_data_invalid_columns():\n",
    "    bad_df = pd.DataFrame({\"wrong_column\": [1, 2, 3]})\n",
    "    is_valid, message = validate_uploaded_data(bad_df)\n",
    "    assert not is_valid\n",
    "    assert \"missing required columns\" in message.lower()\n",
    "\n",
    "def test_generate_ai_commentary():\n",
    "    df = pd.read_csv(\"data/normal_and_anomalous_flaged_df.csv\")\n",
    "    summary = generate_ai_commentary(df)\n",
    "    assert isinstance(summary, str)\n",
    "    assert len(summary) > 10\n"
   ]
  }
 ],
 "metadata": {
  "kernelspec": {
   "display_name": "Python 3 (ipykernel)",
   "language": "python",
   "name": "python3"
  },
  "language_info": {
   "codemirror_mode": {
    "name": "ipython",
    "version": 3
   },
   "file_extension": ".py",
   "mimetype": "text/x-python",
   "name": "python",
   "nbconvert_exporter": "python",
   "pygments_lexer": "ipython3",
   "version": "3.11.9"
  }
 },
 "nbformat": 4,
 "nbformat_minor": 5
}
