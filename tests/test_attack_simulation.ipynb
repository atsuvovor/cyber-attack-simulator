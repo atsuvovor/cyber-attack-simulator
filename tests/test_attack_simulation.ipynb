{
 "cells": [
  {
   "cell_type": "code",
   "execution_count": null,
   "id": "5661c1b7-be71-43b9-ad0b-6d347f5ee591",
   "metadata": {},
   "outputs": [],
   "source": [
    "import pandas as pd\n",
    "import pytest\n",
    "from core.attack_simulator import BaseAttackSimulator\n",
    "\n",
    "@pytest.fixture\n",
    "def base_df():\n",
    "    return pd.read_csv(\"data/normal_and_anomalous_flaged_df.csv\")\n",
    "\n",
    "def test_run_attack_phishing(base_df):\n",
    "    simulator = BaseAttackSimulator(base_df, anomaly_magnitude=1.5)\n",
    "    attacked_df = simulator.run_attack(\"phishing\")\n",
    "    assert not attacked_df.empty\n",
    "    assert isinstance(attacked_df, pd.DataFrame)\n",
    "\n",
    "def test_inject_anomaly_normal_distribution(base_df):\n",
    "    simulator = BaseAttackSimulator(base_df, anomaly_magnitude=2.0)\n",
    "    modified_df = simulator.inject_anomaly(\"Threat Score\", \"normal\", {\"loc\": 0, \"scale\": 1})\n",
    "    assert \"Threat Score\" in modified_df.columns\n",
    "    assert modified_df[\"Threat Score\"].var() > base_df[\"Threat Score\"].var()\n"
   ]
  }
 ],
 "metadata": {
  "kernelspec": {
   "display_name": "Python 3 (ipykernel)",
   "language": "python",
   "name": "python3"
  },
  "language_info": {
   "codemirror_mode": {
    "name": "ipython",
    "version": 3
   },
   "file_extension": ".py",
   "mimetype": "text/x-python",
   "name": "python",
   "nbconvert_exporter": "python",
   "pygments_lexer": "ipython3",
   "version": "3.11.9"
  }
 },
 "nbformat": 4,
 "nbformat_minor": 5
}
