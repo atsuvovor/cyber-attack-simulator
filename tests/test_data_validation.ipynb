{
 "cells": [
  {
   "cell_type": "code",
   "execution_count": null,
   "id": "dbb127e6-156f-4b07-b14b-91360cd5b7ef",
   "metadata": {},
   "outputs": [],
   "source": [
    "import pandas as pd\n",
    "import pytest\n",
    "from app.ai_agent import validate_uploaded_data\n",
    "\n",
    "def test_validation_with_all_required_columns():\n",
    "    df = pd.read_csv(\"data/normal_and_anomalous_flaged_df.csv\")\n",
    "    valid, msg = validate_uploaded_data(df)\n",
    "    assert valid\n",
    "\n",
    "def test_validation_missing_columns():\n",
    "    bad_df = pd.DataFrame({\n",
    "        \"User ID\": [\"U001\", \"U002\"],\n",
    "        \"Threat Score\": [5, 7]\n",
    "    })\n",
    "    valid, msg = validate_uploaded_data(bad_df)\n",
    "    assert not valid\n",
    "    assert \"missing\" in msg.lower()\n"
   ]
  }
 ],
 "metadata": {
  "kernelspec": {
   "display_name": "Python 3 (ipykernel)",
   "language": "python",
   "name": "python3"
  },
  "language_info": {
   "codemirror_mode": {
    "name": "ipython",
    "version": 3
   },
   "file_extension": ".py",
   "mimetype": "text/x-python",
   "name": "python",
   "nbconvert_exporter": "python",
   "pygments_lexer": "ipython3",
   "version": "3.11.9"
  }
 },
 "nbformat": 4,
 "nbformat_minor": 5
}
